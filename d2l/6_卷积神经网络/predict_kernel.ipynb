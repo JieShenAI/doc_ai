{
 "cells": [
  {
   "cell_type": "markdown",
   "id": "45c84d8c",
   "metadata": {},
   "source": [
    "描述：\n",
    "\n",
    "    根据输入数据和对应的label进行训练；\n",
    "    观察收敛之后的网络的权重是否正确的权重之间的差距。\n",
    "    [6.2.4 学习卷积核](https://zh-v2.d2l.ai/chapter_convolutional-neural-networks/conv-layer.html) "
   ]
  },
  {
   "cell_type": "code",
   "execution_count": 30,
   "id": "33134135",
   "metadata": {},
   "outputs": [],
   "source": [
    "import torch\n",
    "from torch import nn\n",
    "from d2l import torch as d2l"
   ]
  },
  {
   "cell_type": "code",
   "execution_count": 2,
   "id": "dd152b2f",
   "metadata": {},
   "outputs": [
    {
     "data": {
      "text/plain": [
       "tensor([[1., 1., 0., 0., 0., 0., 1., 1.],\n",
       "        [1., 1., 0., 0., 0., 0., 1., 1.],\n",
       "        [1., 1., 0., 0., 0., 0., 1., 1.],\n",
       "        [1., 1., 0., 0., 0., 0., 1., 1.],\n",
       "        [1., 1., 0., 0., 0., 0., 1., 1.],\n",
       "        [1., 1., 0., 0., 0., 0., 1., 1.]])"
      ]
     },
     "execution_count": 2,
     "metadata": {},
     "output_type": "execute_result"
    }
   ],
   "source": [
    "X = torch.ones((6, 8))\n",
    "X[:, 2:6] = 0\n",
    "X"
   ]
  },
  {
   "cell_type": "markdown",
   "id": "551ab064",
   "metadata": {},
   "source": [
    "真实卷积核"
   ]
  },
  {
   "cell_type": "code",
   "execution_count": 3,
   "id": "783dce1c",
   "metadata": {},
   "outputs": [],
   "source": [
    "K = torch.tensor([[1.0, -1.0]])"
   ]
  },
  {
   "cell_type": "code",
   "execution_count": 4,
   "id": "6df7fa07",
   "metadata": {},
   "outputs": [],
   "source": [
    "def corr2d(X, K):\n",
    "    \"\"\"计算二维互相关运算\"\"\"\n",
    "    h, w = K.shape\n",
    "    Y = torch.zeros((X.shape[0] - h + 1, X.shape[1] - w + 1))\n",
    "    for i in range(Y.shape[0]):\n",
    "        for j in range(Y.shape[1]):\n",
    "            Y[i, j] = (X[i:i + h, j:j + w] * K).sum()\n",
    "    return Y"
   ]
  },
  {
   "cell_type": "code",
   "execution_count": 5,
   "id": "82cd3200",
   "metadata": {},
   "outputs": [
    {
     "data": {
      "text/plain": [
       "tensor([[ 0.,  1.,  0.,  0.,  0., -1.,  0.],\n",
       "        [ 0.,  1.,  0.,  0.,  0., -1.,  0.],\n",
       "        [ 0.,  1.,  0.,  0.,  0., -1.,  0.],\n",
       "        [ 0.,  1.,  0.,  0.,  0., -1.,  0.],\n",
       "        [ 0.,  1.,  0.,  0.,  0., -1.,  0.],\n",
       "        [ 0.,  1.,  0.,  0.,  0., -1.,  0.]])"
      ]
     },
     "execution_count": 5,
     "metadata": {},
     "output_type": "execute_result"
    }
   ],
   "source": [
    "Y = corr2d(X, K)\n",
    "Y"
   ]
  },
  {
   "cell_type": "markdown",
   "id": "572eb982",
   "metadata": {},
   "source": [
    "## 学习卷积核"
   ]
  },
  {
   "cell_type": "code",
   "execution_count": 6,
   "id": "21665c2c",
   "metadata": {},
   "outputs": [
    {
     "name": "stdout",
     "output_type": "stream",
     "text": [
      "epoch 2, loss 5.400\n",
      "epoch 4, loss 1.118\n",
      "epoch 6, loss 0.274\n",
      "epoch 8, loss 0.082\n",
      "epoch 10, loss 0.028\n"
     ]
    }
   ],
   "source": [
    "# 构造一个二维卷积层，它具有1个输出通道和形状为（1，2）的卷积核\n",
    "conv2d = nn.Conv2d(1,1, kernel_size=(1, 2), bias=False)\n",
    "\n",
    "# 这个二维卷积层使用四维输入和输出格式（批量大小、通道、高度、宽度），\n",
    "# 其中批量大小和通道数都为1\n",
    "X = X.reshape((1, 1, 6, 8))\n",
    "Y = Y.reshape((1, 1, 6, 7))\n",
    "lr = 3e-2  # 学习率\n",
    "\n",
    "for i in range(10):\n",
    "    Y_hat = conv2d(X)\n",
    "    l = (Y_hat - Y) ** 2\n",
    "    conv2d.zero_grad()\n",
    "    l.sum().backward()\n",
    "    # 迭代卷积核\n",
    "    conv2d.weight.data[:] -= lr * conv2d.weight.grad\n",
    "    if (i + 1) % 2 == 0:\n",
    "        print(f'epoch {i+1}, loss {l.sum():.3f}')"
   ]
  },
  {
   "cell_type": "code",
   "execution_count": 7,
   "id": "eda476f9",
   "metadata": {},
   "outputs": [
    {
     "data": {
      "text/plain": [
       "torch.Size([1, 1, 1, 2])"
      ]
     },
     "execution_count": 7,
     "metadata": {},
     "output_type": "execute_result"
    }
   ],
   "source": [
    "conv2d.weight.data.shape"
   ]
  },
  {
   "cell_type": "markdown",
   "id": "f35952a0",
   "metadata": {},
   "source": [
    "优化器"
   ]
  },
  {
   "cell_type": "code",
   "execution_count": 8,
   "id": "e64c459b",
   "metadata": {},
   "outputs": [],
   "source": [
    "net = nn.Sequential(conv2d)"
   ]
  },
  {
   "cell_type": "code",
   "execution_count": 9,
   "id": "a0071319",
   "metadata": {},
   "outputs": [],
   "source": [
    "trainer = torch.optim.SGD(net.parameters(), lr=0.03)"
   ]
  },
  {
   "cell_type": "code",
   "execution_count": 10,
   "id": "13a55afe",
   "metadata": {},
   "outputs": [],
   "source": [
    "loss = nn.MSELoss()"
   ]
  },
  {
   "cell_type": "code",
   "execution_count": 11,
   "id": "9b1e1553",
   "metadata": {},
   "outputs": [],
   "source": [
    "from torch.utils import data"
   ]
  },
  {
   "cell_type": "code",
   "execution_count": 12,
   "id": "ec31f8a8",
   "metadata": {},
   "outputs": [],
   "source": [
    "def load_array(data_arrays, batch_size, is_train=True):\n",
    "    \"\"\"构造一个PyTorch数据迭代器\n",
    "    Defined in :numref:`sec_linear_concise`\"\"\"\n",
    "    dataset = data.TensorDataset(*data_arrays)\n",
    "    return data.DataLoader(dataset, batch_size, shuffle=is_train)"
   ]
  },
  {
   "cell_type": "code",
   "execution_count": 30,
   "id": "bf340188",
   "metadata": {},
   "outputs": [
    {
     "data": {
      "text/plain": [
       "torch.Size([1, 1, 6, 8])"
      ]
     },
     "execution_count": 30,
     "metadata": {},
     "output_type": "execute_result"
    }
   ],
   "source": [
    "X.shape"
   ]
  },
  {
   "cell_type": "code",
   "execution_count": 14,
   "id": "34b69733",
   "metadata": {},
   "outputs": [],
   "source": [
    "data_arrays = [X.view(6,1,1,8),Y.view(6,1,1,7)]"
   ]
  },
  {
   "cell_type": "code",
   "execution_count": 15,
   "id": "2aa637ee",
   "metadata": {},
   "outputs": [],
   "source": [
    "data_loader = load_array(data_arrays,2,False)"
   ]
  },
  {
   "cell_type": "code",
   "execution_count": 16,
   "id": "200b6c1a",
   "metadata": {},
   "outputs": [
    {
     "name": "stdout",
     "output_type": "stream",
     "text": [
      "tensor([[[[1., 1., 0., 0., 0., 0., 1., 1.]]],\n",
      "\n",
      "\n",
      "        [[[1., 1., 0., 0., 0., 0., 1., 1.]]]]) tensor([[[[ 0.,  1.,  0.,  0.,  0., -1.,  0.]]],\n",
      "\n",
      "\n",
      "        [[[ 0.,  1.,  0.,  0.,  0., -1.,  0.]]]])\n",
      "********************\n",
      "tensor([[[[1., 1., 0., 0., 0., 0., 1., 1.]]],\n",
      "\n",
      "\n",
      "        [[[1., 1., 0., 0., 0., 0., 1., 1.]]]]) tensor([[[[ 0.,  1.,  0.,  0.,  0., -1.,  0.]]],\n",
      "\n",
      "\n",
      "        [[[ 0.,  1.,  0.,  0.,  0., -1.,  0.]]]])\n",
      "********************\n",
      "tensor([[[[1., 1., 0., 0., 0., 0., 1., 1.]]],\n",
      "\n",
      "\n",
      "        [[[1., 1., 0., 0., 0., 0., 1., 1.]]]]) tensor([[[[ 0.,  1.,  0.,  0.,  0., -1.,  0.]]],\n",
      "\n",
      "\n",
      "        [[[ 0.,  1.,  0.,  0.,  0., -1.,  0.]]]])\n",
      "********************\n"
     ]
    }
   ],
   "source": [
    "for x,y in data_loader:\n",
    "    print(x,y)\n",
    "    print('*'*20)"
   ]
  },
  {
   "cell_type": "code",
   "execution_count": 27,
   "id": "42e0e900",
   "metadata": {},
   "outputs": [
    {
     "name": "stdout",
     "output_type": "stream",
     "text": [
      "epoch 1, loss 0.000004\n",
      "epoch 2, loss 0.000004\n",
      "epoch 3, loss 0.000004\n",
      "epoch 4, loss 0.000004\n",
      "epoch 5, loss 0.000003\n",
      "epoch 6, loss 0.000003\n",
      "epoch 7, loss 0.000003\n",
      "epoch 8, loss 0.000003\n",
      "epoch 9, loss 0.000003\n",
      "epoch 10, loss 0.000003\n",
      "epoch 11, loss 0.000003\n",
      "epoch 12, loss 0.000002\n",
      "epoch 13, loss 0.000002\n",
      "epoch 14, loss 0.000002\n",
      "epoch 15, loss 0.000002\n",
      "epoch 16, loss 0.000002\n"
     ]
    }
   ],
   "source": [
    "num_epochs = 16\n",
    "for epoch in range(num_epochs):\n",
    "    for _data, _label in data_loader:\n",
    "        l = loss(net(_data) ,_label)\n",
    "        trainer.zero_grad()\n",
    "        l.backward()\n",
    "        trainer.step()\n",
    "    l = loss(net(_data), _label)\n",
    "    print(f'epoch {epoch + 1}, loss {l:f}')"
   ]
  },
  {
   "cell_type": "code",
   "execution_count": 28,
   "id": "636c6129",
   "metadata": {},
   "outputs": [
    {
     "data": {
      "text/plain": [
       "tensor([[[[ 0.9974, -0.9974]]]])"
      ]
     },
     "execution_count": 28,
     "metadata": {},
     "output_type": "execute_result"
    }
   ],
   "source": [
    "net[0].weight.data"
   ]
  },
  {
   "cell_type": "code",
   "execution_count": 26,
   "id": "62b9bafb",
   "metadata": {},
   "outputs": [
    {
     "data": {
      "text/plain": [
       "tensor([[[[ 0.9960, -0.9961]]]])"
      ]
     },
     "execution_count": 26,
     "metadata": {},
     "output_type": "execute_result"
    }
   ],
   "source": [
    "net[0].weight.data"
   ]
  },
  {
   "cell_type": "code",
   "execution_count": null,
   "id": "07ceea83",
   "metadata": {},
   "outputs": [],
   "source": []
  }
 ],
 "metadata": {
  "kernelspec": {
   "display_name": "Python 3 (ipykernel)",
   "language": "python",
   "name": "python3"
  },
  "language_info": {
   "codemirror_mode": {
    "name": "ipython",
    "version": 3
   },
   "file_extension": ".py",
   "mimetype": "text/x-python",
   "name": "python",
   "nbconvert_exporter": "python",
   "pygments_lexer": "ipython3",
   "version": "3.9.7"
  }
 },
 "nbformat": 4,
 "nbformat_minor": 5
}
